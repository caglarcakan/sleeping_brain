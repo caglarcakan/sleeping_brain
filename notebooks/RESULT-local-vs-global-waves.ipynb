{
 "cells": [
  {
   "cell_type": "code",
   "execution_count": null,
   "metadata": {},
   "outputs": [],
   "source": [
    "# change into the root directory of the project\n",
    "import os\n",
    "if os.getcwd().split(\"/\")[-1] == \"dev\":\n",
    "    os.chdir('..')"
   ]
  },
  {
   "cell_type": "code",
   "execution_count": null,
   "metadata": {},
   "outputs": [],
   "source": [
    "import logging\n",
    "logger = logging.getLogger()\n",
    "#import warnings\n",
    "#warnings.filterwarnings(\"ignore\")\n",
    "\n",
    "logger.setLevel(logging.INFO)\n",
    "#logging.disable(logging.WARNING)\n",
    "#logging.disable(logging.WARN)\n",
    "\n",
    "%load_ext autoreload\n",
    "%autoreload 2"
   ]
  },
  {
   "cell_type": "code",
   "execution_count": null,
   "metadata": {},
   "outputs": [],
   "source": [
    "import numpy as np\n",
    "import matplotlib.pyplot as plt\n",
    "plt.rcParams['image.cmap'] = 'plasma'\n",
    "import scipy\n",
    "from scipy import stats\n",
    "\n",
    "\n",
    "from neurolib.models.aln import ALNModel\n",
    "from neurolib.utils.parameterSpace import ParameterSpace\n",
    "from neurolib.optimize.exploration import BoxSearch\n",
    "import neurolib.utils.functions as func\n",
    "import neurolib.utils.devutils as du\n",
    "\n",
    "import neurolib.utils.brainplot as bp\n",
    "import neurolib.optimize.exploration.explorationUtils as eu\n",
    "\n",
    "from neurolib.utils.loadData import Dataset"
   ]
  },
  {
   "cell_type": "code",
   "execution_count": null,
   "metadata": {},
   "outputs": [],
   "source": [
    "plt.style.use(\"paper\")\n",
    "plt.style.reload_library()"
   ]
  },
  {
   "cell_type": "code",
   "execution_count": null,
   "metadata": {},
   "outputs": [],
   "source": [
    "def peak_isi(peaks):\n",
    "    return np.diff(peaks)/1000*model.params.dt"
   ]
  },
  {
   "cell_type": "code",
   "execution_count": null,
   "metadata": {},
   "outputs": [],
   "source": [
    "def process_run(output):\n",
    "    model.outputs[model.default_output] = output\n",
    "    states = bp.detectSWs(model)\n",
    "    durations = bp.get_state_lengths(states)\n",
    "    involvement = bp.get_involvement(states)\n",
    "    kuramoto_up, kuramoto_down = kuramoto_state_transitions(states, skip=100)\n",
    "    \n",
    "    inv = scipy.ndimage.gaussian_filter1d(involvement, 2000)\n",
    "    peaks25 = scipy.signal.find_peaks(inv, height=0.25, distance=1000)[0]\n",
    "    peaks50 = scipy.signal.find_peaks(inv, height=0.5, distance=1000)[0]\n",
    "    peaks75 = scipy.signal.find_peaks(inv, height=0.75, distance=1000)[0]\n",
    "    peaks = [peaks25, peaks50, peaks75]\n",
    "    ups, downs = bp.get_state_durations_flat(model, states)\n",
    "    return states, durations, involvement, kuramoto_up, kuramoto_down, peaks, ups, downs\n",
    "#process_run(search.results[0]['rates_exc'])"
   ]
  },
  {
   "cell_type": "code",
   "execution_count": 1,
   "metadata": {},
   "outputs": [
    {
     "ename": "NameError",
     "evalue": "name 'Dataset' is not defined",
     "output_type": "error",
     "traceback": [
      "\u001b[0;31m---------------------------------------------------------------------------\u001b[0m",
      "\u001b[0;31mNameError\u001b[0m                                 Traceback (most recent call last)",
      "\u001b[0;32m<ipython-input-1-3282a47c86c9>\u001b[0m in \u001b[0;36m<module>\u001b[0;34m\u001b[0m\n\u001b[0;32m----> 1\u001b[0;31m \u001b[0mds\u001b[0m \u001b[0;34m=\u001b[0m \u001b[0mDataset\u001b[0m\u001b[0;34m(\u001b[0m\u001b[0;34m\"gw_big\"\u001b[0m\u001b[0;34m,\u001b[0m \u001b[0mfcd\u001b[0m\u001b[0;34m=\u001b[0m\u001b[0;32mFalse\u001b[0m\u001b[0;34m)\u001b[0m\u001b[0;34m\u001b[0m\u001b[0;34m\u001b[0m\u001b[0m\n\u001b[0m\u001b[1;32m      2\u001b[0m \u001b[0mmodel\u001b[0m \u001b[0;34m=\u001b[0m \u001b[0mALNModel\u001b[0m\u001b[0;34m(\u001b[0m\u001b[0mCmat\u001b[0m \u001b[0;34m=\u001b[0m \u001b[0mds\u001b[0m\u001b[0;34m.\u001b[0m\u001b[0mCmat\u001b[0m\u001b[0;34m,\u001b[0m \u001b[0mDmat\u001b[0m \u001b[0;34m=\u001b[0m \u001b[0mds\u001b[0m\u001b[0;34m.\u001b[0m\u001b[0mDmat\u001b[0m\u001b[0;34m)\u001b[0m\u001b[0;34m\u001b[0m\u001b[0;34m\u001b[0m\u001b[0m\n\u001b[1;32m      3\u001b[0m \u001b[0mmodel\u001b[0m\u001b[0;34m.\u001b[0m\u001b[0mparams\u001b[0m\u001b[0;34m[\u001b[0m\u001b[0;34m'dt'\u001b[0m\u001b[0;34m]\u001b[0m \u001b[0;34m=\u001b[0m \u001b[0;36m0.1\u001b[0m\u001b[0;34m\u001b[0m\u001b[0;34m\u001b[0m\u001b[0m\n\u001b[1;32m      4\u001b[0m \u001b[0mmodel\u001b[0m\u001b[0;34m.\u001b[0m\u001b[0mparams\u001b[0m\u001b[0;34m[\u001b[0m\u001b[0;34m'duration'\u001b[0m\u001b[0;34m]\u001b[0m \u001b[0;34m=\u001b[0m \u001b[0;36m10.0\u001b[0m \u001b[0;34m*\u001b[0m \u001b[0;36m60\u001b[0m \u001b[0;34m*\u001b[0m \u001b[0;36m1000\u001b[0m \u001b[0;31m#ms\u001b[0m\u001b[0;34m\u001b[0m\u001b[0;34m\u001b[0m\u001b[0m\n\u001b[1;32m      5\u001b[0m \u001b[0;34m\u001b[0m\u001b[0m\n",
      "\u001b[0;31mNameError\u001b[0m: name 'Dataset' is not defined"
     ]
    }
   ],
   "source": [
    "ds = Dataset(\"gw_big\", fcd=False)\n",
    "model = ALNModel(Cmat = ds.Cmat, Dmat = ds.Dmat)\n",
    "model.params['dt'] = 0.1\n",
    "model.params['duration'] = 10.0 * 60 * 1000 #ms\n",
    "\n",
    "# Results in /mnt/raid/data/cakan/hdf/experiment-10.0-adaptation-noise.hdf\n",
    "model.params[\"mue_ext_mean\"] = 3.3202829454334535\n",
    "model.params[\"mui_ext_mean\"] = 3.682451894176651\n",
    "model.params[\"b\"] = 3.2021806735984186\n",
    "model.params[\"tauA\"] = 4765.3385276559875\n",
    "model.params[\"sigma_ou\"] = 0.36802952978628106\n",
    "model.params[\"Ke_gl\"] = 265.48075753153"
   ]
  },
  {
   "cell_type": "code",
   "execution_count": null,
   "metadata": {},
   "outputs": [],
   "source": [
    "import scipy.signal\n",
    "\n",
    "def filter_peaks(peaks, involvement, threshold_max, threshold_min = 0):\n",
    "    around = int(500 / model.params.dt)\n",
    "    #return [p for p in peaks if (np.all(involvement[p-around:p+around] < threshold_max) and np.any(involvement[p-around:p+around]  > threshold_min)) ]\n",
    "    #return [p for p in peaks if (np.max(involvement[p-around:p+around]) <= threshold_max) \\\n",
    "    #        and (np.max(involvement[p-around:p+around])  > threshold_min) ]\n",
    "    #return [p for p in peaks if (np.all(involvement[p-around:p+around] <= threshold_max))]\n",
    "    #print(threshold_min)\n",
    "    #print([(p, involvement[p]) for p in peaks if involvement[p] > threshold_min])\n",
    "    return [p for p in peaks if (involvement[p] > threshold_min and involvement[p] <= threshold_max)]\n",
    "\n",
    "def get_peaks(involvement, min_distance=1000):\n",
    "    filtered_involvement = scipy.ndimage.gaussian_filter1d(involvement, 2000)\n",
    "    peaks = scipy.signal.find_peaks(filtered_involvement, height=0.1, distance=min_distance)[0]\n",
    "\n",
    "    peaks25 = filter_peaks(peaks, involvement, 0.50, 0.0)\n",
    "    peaks50 = filter_peaks(peaks, involvement, 0.75, 0.50)\n",
    "    peaks75 = filter_peaks(peaks, involvement, 1, 0.75)\n",
    "\n",
    "    return peaks25, peaks50, peaks75\n",
    "\n",
    "def plot_peaks(peaks, color='springgreen'):\n",
    "    for p in peaks.copy():\n",
    "        dt_min = p\n",
    "        around = int(500 / model.params.dt)\n",
    "        if dt_min+around < len(involvement):\n",
    "            plt.scatter(dt_min/1000*model.params.dt, involvement[dt_min], color=color, s=5)\n",
    "            #plt.plot(np.arange(dt_min-around, dt_min+around)/1000*model.params.dt, involvement[dt_min-around : dt_min+around], lw=1, c=color)\n",
    "    "
   ]
  },
  {
   "cell_type": "code",
   "execution_count": 2,
   "metadata": {},
   "outputs": [
    {
     "ename": "NameError",
     "evalue": "name 'model' is not defined",
     "output_type": "error",
     "traceback": [
      "\u001b[0;31m---------------------------------------------------------------------------\u001b[0m",
      "\u001b[0;31mNameError\u001b[0m                                 Traceback (most recent call last)",
      "\u001b[0;32m<ipython-input-2-2f4c0891c900>\u001b[0m in \u001b[0;36m<module>\u001b[0;34m\u001b[0m\n\u001b[0;32m----> 1\u001b[0;31m \u001b[0mmodel\u001b[0m\u001b[0;34m.\u001b[0m\u001b[0mrun\u001b[0m\u001b[0;34m(\u001b[0m\u001b[0;34m)\u001b[0m\u001b[0;34m\u001b[0m\u001b[0;34m\u001b[0m\u001b[0m\n\u001b[0m\u001b[1;32m      2\u001b[0m \u001b[0mstates\u001b[0m\u001b[0;34m,\u001b[0m \u001b[0mdurations\u001b[0m\u001b[0;34m,\u001b[0m \u001b[0minvolvement\u001b[0m\u001b[0;34m,\u001b[0m \u001b[0mkuramoto_up\u001b[0m\u001b[0;34m,\u001b[0m \u001b[0mkuramoto_down\u001b[0m\u001b[0;34m,\u001b[0m \u001b[0mpeaks\u001b[0m\u001b[0;34m,\u001b[0m \u001b[0mups\u001b[0m\u001b[0;34m,\u001b[0m \u001b[0mdowns\u001b[0m \u001b[0;34m=\u001b[0m \u001b[0mprocess_run\u001b[0m\u001b[0;34m(\u001b[0m\u001b[0mmodel\u001b[0m\u001b[0;34m.\u001b[0m\u001b[0moutput\u001b[0m\u001b[0;34m)\u001b[0m\u001b[0;34m\u001b[0m\u001b[0;34m\u001b[0m\u001b[0m\n\u001b[1;32m      3\u001b[0m \u001b[0minv\u001b[0m \u001b[0;34m=\u001b[0m \u001b[0mscipy\u001b[0m\u001b[0;34m.\u001b[0m\u001b[0mndimage\u001b[0m\u001b[0;34m.\u001b[0m\u001b[0mgaussian_filter1d\u001b[0m\u001b[0;34m(\u001b[0m\u001b[0minvolvement\u001b[0m\u001b[0;34m,\u001b[0m \u001b[0;36m2000\u001b[0m\u001b[0;34m)\u001b[0m\u001b[0;34m\u001b[0m\u001b[0;34m\u001b[0m\u001b[0m\n\u001b[1;32m      4\u001b[0m \u001b[0mpeaks25\u001b[0m\u001b[0;34m,\u001b[0m \u001b[0mpeaks50\u001b[0m \u001b[0;34m=\u001b[0m \u001b[0mget_peaks\u001b[0m\u001b[0;34m(\u001b[0m\u001b[0minv\u001b[0m\u001b[0;34m)\u001b[0m\u001b[0;34m\u001b[0m\u001b[0;34m\u001b[0m\u001b[0m\n",
      "\u001b[0;31mNameError\u001b[0m: name 'model' is not defined"
     ]
    }
   ],
   "source": [
    "model.run()\n",
    "states, durations, involvement, kuramoto_up, kuramoto_down, peaks, ups, downs = process_run(model.output)\n",
    "inv = scipy.ndimage.gaussian_filter1d(involvement, 2000)\n",
    "peaks25, peaks50 = get_peaks(inv)"
   ]
  },
  {
   "cell_type": "code",
   "execution_count": null,
   "metadata": {},
   "outputs": [],
   "source": [
    "def peak_isi(peaks):\n",
    "    return np.diff(peaks)/1000*model.params.dt"
   ]
  },
  {
   "cell_type": "code",
   "execution_count": null,
   "metadata": {},
   "outputs": [],
   "source": [
    "# plt.figure(figsize=(6, 3))\n",
    "# import scipy.signal\n",
    "\n",
    "# def filter_peaks(peaks, involvement, threshold_max, threshold_min = 0):\n",
    "#     around = int(500 / model.params.dt)\n",
    "#     #return [p for p in peaks if (np.all(involvement[p-around:p+around] < threshold_max) and np.any(involvement[p-around:p+around]  > threshold_min)) ]\n",
    "#     return [p for p in peaks if (np.all(involvement[p-around:p+around] <= threshold_max))]\n",
    "    \n",
    "# def get_peaks(involvement):\n",
    "#     peaks25 = scipy.signal.find_peaks(involvement, height=0.25, distance=1000)[0]\n",
    "#     peaks50 = scipy.signal.find_peaks(involvement, height=0.50, distance=1000)[0]\n",
    "#     #peaks75 = scipy.signal.find_peaks(involvement, height=0.75, distance=10000)[0]\n",
    "    \n",
    "#     peaks25 = filter_peaks(peaks25, involvement, 0.50, 0.0)\n",
    "#     peaks50 = filter_peaks(peaks50, involvement, 1.0, 0.50)\n",
    "#     #peaks75 = filter_peaks(peaks75, involvement, 1, 0.75)\n",
    "#     return peaks25, peaks50#, peaks75\n",
    "    \n",
    "# peaks25, peaks50 = get_peaks(involvement)\n",
    "\n",
    "# def plot_peaks(peaks, color='springgreen'):\n",
    "#     for p in peaks:\n",
    "#         dt_min = p\n",
    "#         around = int(500 / model.params.dt)\n",
    "#         if dt_min+around < len(involvement):\n",
    "#             plt.scatter(dt_min/1000*model.params.dt, involvement[dt_min] + 0.1, color=color, s=3)\n",
    "#             plt.plot(np.arange(dt_min-around, dt_min+around)/1000*model.params.dt, involvement[dt_min-around : dt_min+around], lw=1, c=color)\n",
    "\n",
    "# plot_peaks(peaks25, \"springgreen\")\n",
    "# plot_peaks(peaks50, \"red\")\n",
    "# #plot_peaks(peaks75, \"red\")\n",
    "\n",
    "# plt.plot(search.dfResults.t[0]/1000, involvement, c='k', zorder=-2, ls=\"--\", lw=1, alpha=0.2)\n",
    "# plt.xlabel(\"t [s]\")\n",
    "# plt.ylabel(\"Involvement\")"
   ]
  },
  {
   "cell_type": "code",
   "execution_count": null,
   "metadata": {},
   "outputs": [],
   "source": [
    "inv = scipy.ndimage.gaussian_filter1d(involvement, 2000)"
   ]
  },
  {
   "cell_type": "code",
   "execution_count": null,
   "metadata": {},
   "outputs": [],
   "source": [
    "peaks25, peaks50 = get_peaks(inv)"
   ]
  },
  {
   "cell_type": "code",
   "execution_count": 4,
   "metadata": {},
   "outputs": [
    {
     "ename": "NameError",
     "evalue": "name 'plot_peaks' is not defined",
     "output_type": "error",
     "traceback": [
      "\u001b[0;31m---------------------------------------------------------------------------\u001b[0m",
      "\u001b[0;31mNameError\u001b[0m                                 Traceback (most recent call last)",
      "\u001b[0;32m<ipython-input-4-fb23dd0780fa>\u001b[0m in \u001b[0;36m<module>\u001b[0;34m\u001b[0m\n\u001b[0;32m----> 1\u001b[0;31m \u001b[0mplot_peaks\u001b[0m\u001b[0;34m(\u001b[0m\u001b[0mpeaks25\u001b[0m\u001b[0;34m,\u001b[0m \u001b[0;34m\"C0\"\u001b[0m\u001b[0;34m)\u001b[0m\u001b[0;34m\u001b[0m\u001b[0;34m\u001b[0m\u001b[0m\n\u001b[0m\u001b[1;32m      2\u001b[0m \u001b[0mplot_peaks\u001b[0m\u001b[0;34m(\u001b[0m\u001b[0mpeaks50\u001b[0m\u001b[0;34m,\u001b[0m \u001b[0;34m\"C1\"\u001b[0m\u001b[0;34m)\u001b[0m\u001b[0;34m\u001b[0m\u001b[0;34m\u001b[0m\u001b[0m\n\u001b[1;32m      3\u001b[0m \u001b[0mplt\u001b[0m\u001b[0;34m.\u001b[0m\u001b[0mplot\u001b[0m\u001b[0;34m(\u001b[0m\u001b[0mmodel\u001b[0m\u001b[0;34m.\u001b[0m\u001b[0mt\u001b[0m\u001b[0;34m/\u001b[0m\u001b[0;36m1000\u001b[0m\u001b[0;34m,\u001b[0m \u001b[0minvolvement\u001b[0m\u001b[0;34m,\u001b[0m \u001b[0mc\u001b[0m\u001b[0;34m=\u001b[0m\u001b[0;34m'k'\u001b[0m\u001b[0;34m,\u001b[0m \u001b[0mzorder\u001b[0m\u001b[0;34m=\u001b[0m\u001b[0;34m-\u001b[0m\u001b[0;36m2\u001b[0m\u001b[0;34m,\u001b[0m \u001b[0mls\u001b[0m\u001b[0;34m=\u001b[0m\u001b[0;34m\"--\"\u001b[0m\u001b[0;34m,\u001b[0m \u001b[0mlw\u001b[0m\u001b[0;34m=\u001b[0m\u001b[0;36m1\u001b[0m\u001b[0;34m,\u001b[0m \u001b[0malpha\u001b[0m\u001b[0;34m=\u001b[0m\u001b[0;36m0.2\u001b[0m\u001b[0;34m)\u001b[0m\u001b[0;34m\u001b[0m\u001b[0;34m\u001b[0m\u001b[0m\n\u001b[1;32m      4\u001b[0m \u001b[0mplt\u001b[0m\u001b[0;34m.\u001b[0m\u001b[0mxlabel\u001b[0m\u001b[0;34m(\u001b[0m\u001b[0;34m\"Time [s]\"\u001b[0m\u001b[0;34m)\u001b[0m\u001b[0;34m\u001b[0m\u001b[0;34m\u001b[0m\u001b[0m\n\u001b[1;32m      5\u001b[0m \u001b[0mplt\u001b[0m\u001b[0;34m.\u001b[0m\u001b[0mylabel\u001b[0m\u001b[0;34m(\u001b[0m\u001b[0;34m\"Involvement\"\u001b[0m\u001b[0;34m)\u001b[0m\u001b[0;34m\u001b[0m\u001b[0;34m\u001b[0m\u001b[0m\n",
      "\u001b[0;31mNameError\u001b[0m: name 'plot_peaks' is not defined"
     ]
    }
   ],
   "source": [
    "plot_peaks(peaks25, \"C0\")\n",
    "plot_peaks(peaks50, \"C1\")\n",
    "plt.plot(model.t/1000, involvement, c='k', zorder=-2, ls=\"--\", lw=1, alpha=0.2)\n",
    "plt.xlabel(\"Time [s]\")\n",
    "plt.ylabel(\"Involvement\")\n",
    "plt.xlim(0, 100)\n",
    "\n",
    "involvement = all_involvements[105]    \n",
    "plt.figure(figsize=(6, 3))\n",
    "\n",
    "peaks25, peaks50, peaks75 = get_peaks(involvement)\n",
    "\n",
    "plot_peaks(peaks25, \"springgreen\")\n",
    "plot_peaks(peaks50, \"dodgerblue\")\n",
    "plot_peaks(peaks75, \"red\")\n",
    "\n",
    "plt.hlines([0.25, 0.5, 0.75], 0, 60, linestyles='--', color='darkgray', alpha=0.9)\n",
    "\n",
    "#plt.savefig(\"data/figures/RESULTS-adaptation/global_local_waves_timeseries.pdf\", transparent=True)\n",
    "#plt.savefig(\"data/figures/RESULTS-adaptation/global_local_waves_timeseries.svg\", transparent=True)"
   ]
  },
  {
   "cell_type": "code",
   "execution_count": 5,
   "metadata": {},
   "outputs": [
    {
     "ename": "NameError",
     "evalue": "name 'plt' is not defined",
     "output_type": "error",
     "traceback": [
      "\u001b[0;31m---------------------------------------------------------------------------\u001b[0m",
      "\u001b[0;31mNameError\u001b[0m                                 Traceback (most recent call last)",
      "\u001b[0;32m<ipython-input-5-145a968b80b0>\u001b[0m in \u001b[0;36m<module>\u001b[0;34m\u001b[0m\n\u001b[1;32m      1\u001b[0m \u001b[0mnbins\u001b[0m \u001b[0;34m=\u001b[0m \u001b[0;36m25\u001b[0m\u001b[0;34m\u001b[0m\u001b[0;34m\u001b[0m\u001b[0m\n\u001b[1;32m      2\u001b[0m \u001b[0;31m#plt.hist(all_peak50_isis,alpha=0.75, bins=10**(np.linspace(0,1,nbins)), density=True)\u001b[0m\u001b[0;34m\u001b[0m\u001b[0;34m\u001b[0m\u001b[0;34m\u001b[0m\u001b[0m\n\u001b[0;32m----> 3\u001b[0;31m \u001b[0mplt\u001b[0m\u001b[0;34m.\u001b[0m\u001b[0mhist\u001b[0m\u001b[0;34m(\u001b[0m\u001b[0mpeak_isi\u001b[0m\u001b[0;34m(\u001b[0m\u001b[0mpeaks25\u001b[0m\u001b[0;34m)\u001b[0m\u001b[0;34m,\u001b[0m \u001b[0mrwidth\u001b[0m\u001b[0;34m=\u001b[0m\u001b[0;36m0.8\u001b[0m\u001b[0;34m,\u001b[0m \u001b[0medgecolor\u001b[0m\u001b[0;34m=\u001b[0m\u001b[0;34m\"k\"\u001b[0m\u001b[0;34m,\u001b[0m \u001b[0malpha\u001b[0m\u001b[0;34m=\u001b[0m\u001b[0;36m0.75\u001b[0m\u001b[0;34m,\u001b[0m \u001b[0mbins\u001b[0m\u001b[0;34m=\u001b[0m\u001b[0;36m10\u001b[0m\u001b[0;34m**\u001b[0m\u001b[0;34m(\u001b[0m\u001b[0mnp\u001b[0m\u001b[0;34m.\u001b[0m\u001b[0mlinspace\u001b[0m\u001b[0;34m(\u001b[0m\u001b[0;34m-\u001b[0m\u001b[0;36m1\u001b[0m\u001b[0;34m,\u001b[0m\u001b[0;36m1\u001b[0m\u001b[0;34m,\u001b[0m\u001b[0mnbins\u001b[0m\u001b[0;34m)\u001b[0m\u001b[0;34m)\u001b[0m\u001b[0;34m,\u001b[0m \u001b[0mdensity\u001b[0m\u001b[0;34m=\u001b[0m\u001b[0;32mTrue\u001b[0m\u001b[0;34m,\u001b[0m \u001b[0mlabel\u001b[0m\u001b[0;34m=\u001b[0m\u001b[0;34m'Local'\u001b[0m\u001b[0;34m,\u001b[0m \u001b[0mcolor\u001b[0m\u001b[0;34m=\u001b[0m\u001b[0;34m'C0'\u001b[0m\u001b[0;34m)\u001b[0m\u001b[0;34m\u001b[0m\u001b[0;34m\u001b[0m\u001b[0m\n\u001b[0m\u001b[1;32m      4\u001b[0m \u001b[0mplt\u001b[0m\u001b[0;34m.\u001b[0m\u001b[0mhist\u001b[0m\u001b[0;34m(\u001b[0m\u001b[0mpeak_isi\u001b[0m\u001b[0;34m(\u001b[0m\u001b[0mpeaks50\u001b[0m\u001b[0;34m)\u001b[0m\u001b[0;34m,\u001b[0m \u001b[0mrwidth\u001b[0m\u001b[0;34m=\u001b[0m\u001b[0;36m0.8\u001b[0m\u001b[0;34m,\u001b[0m \u001b[0medgecolor\u001b[0m\u001b[0;34m=\u001b[0m\u001b[0;34m\"k\"\u001b[0m\u001b[0;34m,\u001b[0m \u001b[0malpha\u001b[0m\u001b[0;34m=\u001b[0m\u001b[0;36m0.75\u001b[0m\u001b[0;34m,\u001b[0m \u001b[0mbins\u001b[0m\u001b[0;34m=\u001b[0m\u001b[0;36m10\u001b[0m\u001b[0;34m**\u001b[0m\u001b[0;34m(\u001b[0m\u001b[0mnp\u001b[0m\u001b[0;34m.\u001b[0m\u001b[0mlinspace\u001b[0m\u001b[0;34m(\u001b[0m\u001b[0;34m-\u001b[0m\u001b[0;36m1\u001b[0m\u001b[0;34m,\u001b[0m\u001b[0;36m1\u001b[0m\u001b[0;34m,\u001b[0m\u001b[0mnbins\u001b[0m\u001b[0;34m)\u001b[0m\u001b[0;34m)\u001b[0m\u001b[0;34m,\u001b[0m \u001b[0mdensity\u001b[0m\u001b[0;34m=\u001b[0m\u001b[0;32mTrue\u001b[0m\u001b[0;34m,\u001b[0m \u001b[0mlabel\u001b[0m\u001b[0;34m=\u001b[0m\u001b[0;34m'Global'\u001b[0m\u001b[0;34m,\u001b[0m \u001b[0mcolor\u001b[0m\u001b[0;34m=\u001b[0m\u001b[0;34m'C1'\u001b[0m\u001b[0;34m)\u001b[0m\u001b[0;34m\u001b[0m\u001b[0;34m\u001b[0m\u001b[0m\n\u001b[1;32m      5\u001b[0m \u001b[0;31m#plt.legend()\u001b[0m\u001b[0;34m\u001b[0m\u001b[0;34m\u001b[0m\u001b[0;34m\u001b[0m\u001b[0m\n",
      "\u001b[0;31mNameError\u001b[0m: name 'plt' is not defined"
     ]
    }
   ],
   "source": [
    "figsize=(2, 1.7)\n",
    "plt.figure(figsize=figsize)\n",
    "nbins = 25\n",
    "#plt.hist(all_peak50_isis,alpha=0.75, bins=10**(np.linspace(0,1,nbins)), density=True)\n",
    "plt.hist(peak_isi(peaks25), rwidth=0.8, edgecolor=\"k\", alpha=1, bins=10**(np.linspace(-1,1,nbins)), density=True, label='Local', color='C0')\n",
    "plt.hist(peak_isi(np.sort(peaks50 + peaks75).tolist()), rwidth=0.8, edgecolor=\"k\", alpha=0.85, bins=10**(np.linspace(-1,1,nbins)), density=True, label='Global', color='C1')\n",
    "#plt.legend()\n",
    "plt.gca().tick_params(axis=\"both\",direction=\"out\",bottom=True,left=True)\n",
    "plt.xlim(0.35, 10)\n",
    "plt.xscale('log')\n",
    "plt.yticks([0, 0.25, 0.5, 0.75], [0, 25, 50, 75])\n",
    "plt.xticks([1, 10], [1, 10])\n",
    "plt.text(1.3, 0.55, \"local\", fontsize=14,  color='C0')\n",
    "plt.text(2.5, 0.32, \"global\", fontsize=14,  color='C1')\n",
    "plt.xlabel(\"Inter-event interval [s]\")\n",
    "plt.yticks([])\n",
    "#plt.ylabel(\"Probability\")\n",
    "\n",
    "ax = plt.gca()\n",
    "import matplotlib.ticker\n",
    "locmin = matplotlib.ticker.LogLocator(base=10.0,subs=np.arange(2, 10) * .1, numticks=20)\n",
    "ax.xaxis.set_minor_locator(locmin)\n",
    "ax.xaxis.set_minor_formatter(matplotlib.ticker.NullFormatter())\n",
    "plt.gca().tick_params(axis=\"x\",direction=\"out\",which='minor',bottom=True,left=True)\n",
    "\n",
    "plt.tight_layout()\n",
    "\n",
    "ax.spines[\"right\"].set_visible(False)\n",
    "ax.spines[\"top\"].set_visible(False)\n",
    "ax.spines[\"left\"].set_visible(False)\n",
    "#ax.spines[\"bottom\"].set_visible(False)\n",
    "\n",
    "set_axis_size(*figsize)\n",
    "#plt.savefig(\"data/figures/RESULTS-adaptation/global_local_waves_isi.pdf\", transparent=True, bbox_inches = \"tight\")\n",
    "#plt.savefig(\"data/figures/RESULTS-adaptation/global_local_waves_isi.svg\", transparent=True, bbox_inches = \"tight\")"
   ]
  }
 ],
 "metadata": {
  "kernelspec": {
   "display_name": "Python 3",
   "language": "python",
   "name": "python3"
  },
  "language_info": {
   "codemirror_mode": {
    "name": "ipython",
    "version": 3
   },
   "file_extension": ".py",
   "mimetype": "text/x-python",
   "name": "python",
   "nbconvert_exporter": "python",
   "pygments_lexer": "ipython3",
   "version": "3.7.3"
  }
 },
 "nbformat": 4,
 "nbformat_minor": 4
}
